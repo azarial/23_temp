{
 "cells": [
  {
   "cell_type": "code",
   "execution_count": 1,
   "metadata": {},
   "outputs": [
    {
     "name": "stdout",
     "output_type": "stream",
     "text": [
      "Requirement already satisfied: pandas in /Users/azaria.laras/miniconda3/lib/python3.11/site-packages (2.0.3)\n",
      "Requirement already satisfied: python-dateutil>=2.8.2 in /Users/azaria.laras/miniconda3/lib/python3.11/site-packages (from pandas) (2.8.2)\n",
      "Requirement already satisfied: pytz>=2020.1 in /Users/azaria.laras/miniconda3/lib/python3.11/site-packages (from pandas) (2023.3.post1)\n",
      "Requirement already satisfied: tzdata>=2022.1 in /Users/azaria.laras/miniconda3/lib/python3.11/site-packages (from pandas) (2023.3)\n",
      "Requirement already satisfied: numpy>=1.21.0 in /Users/azaria.laras/miniconda3/lib/python3.11/site-packages (from pandas) (1.26.0)\n",
      "Requirement already satisfied: six>=1.5 in /Users/azaria.laras/miniconda3/lib/python3.11/site-packages (from python-dateutil>=2.8.2->pandas) (1.16.0)\n",
      "Requirement already satisfied: numpy in /Users/azaria.laras/miniconda3/lib/python3.11/site-packages (1.26.0)\n",
      "Requirement already satisfied: matplotlib in /Users/azaria.laras/miniconda3/lib/python3.11/site-packages (3.8.0)\n",
      "Requirement already satisfied: contourpy>=1.0.1 in /Users/azaria.laras/miniconda3/lib/python3.11/site-packages (from matplotlib) (1.1.1)\n",
      "Requirement already satisfied: cycler>=0.10 in /Users/azaria.laras/miniconda3/lib/python3.11/site-packages (from matplotlib) (0.12.1)\n",
      "Requirement already satisfied: fonttools>=4.22.0 in /Users/azaria.laras/miniconda3/lib/python3.11/site-packages (from matplotlib) (4.43.1)\n",
      "Requirement already satisfied: kiwisolver>=1.0.1 in /Users/azaria.laras/miniconda3/lib/python3.11/site-packages (from matplotlib) (1.4.5)\n",
      "Requirement already satisfied: numpy<2,>=1.21 in /Users/azaria.laras/miniconda3/lib/python3.11/site-packages (from matplotlib) (1.26.0)\n",
      "Requirement already satisfied: packaging>=20.0 in /Users/azaria.laras/miniconda3/lib/python3.11/site-packages (from matplotlib) (23.0)\n",
      "Requirement already satisfied: pillow>=6.2.0 in /Users/azaria.laras/miniconda3/lib/python3.11/site-packages (from matplotlib) (10.0.1)\n",
      "Requirement already satisfied: pyparsing>=2.3.1 in /Users/azaria.laras/miniconda3/lib/python3.11/site-packages (from matplotlib) (3.1.1)\n",
      "Requirement already satisfied: python-dateutil>=2.7 in /Users/azaria.laras/miniconda3/lib/python3.11/site-packages (from matplotlib) (2.8.2)\n",
      "Requirement already satisfied: six>=1.5 in /Users/azaria.laras/miniconda3/lib/python3.11/site-packages (from python-dateutil>=2.7->matplotlib) (1.16.0)\n"
     ]
    }
   ],
   "source": [
    "!pip install pandas\n",
    "!pip install numpy\n",
    "!pip install matplotlib"
   ]
  },
  {
   "cell_type": "code",
   "execution_count": 5,
   "metadata": {},
   "outputs": [],
   "source": [
    "import pandas as pd \n",
    "from matplotlib import pyplot as plt"
   ]
  },
  {
   "cell_type": "code",
   "execution_count": 14,
   "metadata": {},
   "outputs": [
    {
     "data": {
      "text/html": [
       "<div>\n",
       "<style scoped>\n",
       "    .dataframe tbody tr th:only-of-type {\n",
       "        vertical-align: middle;\n",
       "    }\n",
       "\n",
       "    .dataframe tbody tr th {\n",
       "        vertical-align: top;\n",
       "    }\n",
       "\n",
       "    .dataframe thead th {\n",
       "        text-align: right;\n",
       "    }\n",
       "</style>\n",
       "<table border=\"1\" class=\"dataframe\">\n",
       "  <thead>\n",
       "    <tr style=\"text-align: right;\">\n",
       "      <th></th>\n",
       "      <th>datetime_lst</th>\n",
       "      <th>datetime</th>\n",
       "      <th>t2m</th>\n",
       "      <th>stl3</th>\n",
       "      <th>stl4</th>\n",
       "      <th>sp</th>\n",
       "      <th>ssrd</th>\n",
       "      <th>strd</th>\n",
       "      <th>tcc</th>\n",
       "      <th>tp</th>\n",
       "      <th>...</th>\n",
       "      <th>sd</th>\n",
       "      <th>wdir10</th>\n",
       "      <th>ws10</th>\n",
       "      <th>ws100</th>\n",
       "      <th>r2m</th>\n",
       "      <th>alpha_sol</th>\n",
       "      <th>azimuth_sol</th>\n",
       "      <th>CF100</th>\n",
       "      <th>dhi</th>\n",
       "      <th>dni</th>\n",
       "    </tr>\n",
       "  </thead>\n",
       "  <tbody>\n",
       "    <tr>\n",
       "      <th>0</th>\n",
       "      <td>5/1/23 0:00</td>\n",
       "      <td>4/30/23 17:00</td>\n",
       "      <td>25.8</td>\n",
       "      <td>28.4</td>\n",
       "      <td>27.9</td>\n",
       "      <td>100500</td>\n",
       "      <td>0</td>\n",
       "      <td>432</td>\n",
       "      <td>0.46</td>\n",
       "      <td>1.3</td>\n",
       "      <td>...</td>\n",
       "      <td>0</td>\n",
       "      <td>139</td>\n",
       "      <td>1.1</td>\n",
       "      <td>2.2</td>\n",
       "      <td>0.94</td>\n",
       "      <td>0.0</td>\n",
       "      <td>-3.06</td>\n",
       "      <td>0.0</td>\n",
       "      <td>0</td>\n",
       "      <td>0</td>\n",
       "    </tr>\n",
       "    <tr>\n",
       "      <th>1</th>\n",
       "      <td>5/1/23 1:00</td>\n",
       "      <td>4/30/23 18:00</td>\n",
       "      <td>25.5</td>\n",
       "      <td>28.4</td>\n",
       "      <td>27.9</td>\n",
       "      <td>100459</td>\n",
       "      <td>0</td>\n",
       "      <td>426</td>\n",
       "      <td>0.78</td>\n",
       "      <td>1.5</td>\n",
       "      <td>...</td>\n",
       "      <td>0</td>\n",
       "      <td>192</td>\n",
       "      <td>0.5</td>\n",
       "      <td>0.7</td>\n",
       "      <td>0.94</td>\n",
       "      <td>0.0</td>\n",
       "      <td>2.97</td>\n",
       "      <td>0.0</td>\n",
       "      <td>0</td>\n",
       "      <td>0</td>\n",
       "    </tr>\n",
       "  </tbody>\n",
       "</table>\n",
       "<p>2 rows × 21 columns</p>\n",
       "</div>"
      ],
      "text/plain": [
       "  datetime_lst       datetime   t2m  stl3  stl4      sp  ssrd  strd   tcc  \\\n",
       "0  5/1/23 0:00  4/30/23 17:00  25.8  28.4  27.9  100500     0   432  0.46   \n",
       "1  5/1/23 1:00  4/30/23 18:00  25.5  28.4  27.9  100459     0   426  0.78   \n",
       "\n",
       "    tp  ...  sd  wdir10  ws10  ws100   r2m  alpha_sol  azimuth_sol  CF100  \\\n",
       "0  1.3  ...   0     139   1.1    2.2  0.94        0.0        -3.06    0.0   \n",
       "1  1.5  ...   0     192   0.5    0.7  0.94        0.0         2.97    0.0   \n",
       "\n",
       "   dhi  dni  \n",
       "0    0    0  \n",
       "1    0    0  \n",
       "\n",
       "[2 rows x 21 columns]"
      ]
     },
     "execution_count": 14,
     "metadata": {},
     "output_type": "execute_result"
    }
   ],
   "source": [
    "jkt = pd.read_csv('../Data/jkt_clean.csv')\n",
    "sby = pd.read_csv('../Data/sby_clean.csv')\n",
    "dps = pd.read_csv('../Data/dps_clean.csv')\n",
    "\n",
    "kl = pd.read_csv('../Data/kl_clean.csv')\n",
    "sg = pd.read_csv('../Data/sg_clean.csv')\n",
    "bkk = pd.read_csv('../Data/bkk_clean.csv')\n",
    "\n",
    "nd = pd.read_csv('../Data/nd_clean.csv')\n",
    "dhk = pd.read_csv('../Data/dhk_clean.csv')\n",
    "yyg = pd.read_csv('../Data/yyg_clean.csv')\n",
    "\n",
    "jkt.head(2)\n"
   ]
  },
  {
   "cell_type": "code",
   "execution_count": null,
   "metadata": {},
   "outputs": [],
   "source": []
  },
  {
   "cell_type": "code",
   "execution_count": null,
   "metadata": {},
   "outputs": [],
   "source": []
  }
 ],
 "metadata": {
  "kernelspec": {
   "display_name": "Python 3",
   "language": "python",
   "name": "python3"
  },
  "language_info": {
   "codemirror_mode": {
    "name": "ipython",
    "version": 3
   },
   "file_extension": ".py",
   "mimetype": "text/x-python",
   "name": "python",
   "nbconvert_exporter": "python",
   "pygments_lexer": "ipython3",
   "version": "3.11.4"
  },
  "orig_nbformat": 4
 },
 "nbformat": 4,
 "nbformat_minor": 2
}
